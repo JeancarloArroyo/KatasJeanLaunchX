{
 "cells": [
  {
   "cell_type": "code",
   "execution_count": 1,
   "metadata": {},
   "outputs": [
    {
     "ename": "SyntaxError",
     "evalue": "invalid syntax. Perhaps you forgot a comma? (2936495366.py, line 1)",
     "output_type": "error",
     "traceback": [
      "\u001b[1;36m  Input \u001b[1;32mIn [1]\u001b[1;36m\u001b[0m\n\u001b[1;33m    Microsoft Windows [Versión 10.0.19044.1526]\u001b[0m\n\u001b[1;37m                       ^\u001b[0m\n\u001b[1;31mSyntaxError\u001b[0m\u001b[1;31m:\u001b[0m invalid syntax. Perhaps you forgot a comma?\n"
     ]
    }
   ],
   "source": [
    "Microsoft Windows [Versión 10.0.19044.1526]\n",
    "(c) Microsoft Corporation. Todos los derechos reservados.\n",
    "\n",
    "C:\\Users\\majer>python3 -m venv env\n",
    "\n",
    "C:\\Users\\majer>python -m venv env\n",
    "\n",
    "C:\\Users\\majer>source env/bin/activate\n",
    "\"source\" no se reconoce como un comando interno o externo,\n",
    "programa o archivo por lotes ejecutable.\n",
    "\n",
    "C:\\Users\\majer>env\\bin\\activate\n",
    "El sistema no puede encontrar la ruta especificada.\n",
    "\n",
    "C:\\Users\\majer>env\\Scripts\\activate\n",
    "\n",
    "(env) C:\\Users\\majer>\n",
    "(env) C:\\Users\\majer>pip freeze\n",
    "\n",
    "(env) C:\\Users\\majer>pip install python-dateutil\n",
    "Collecting python-dateutil\n",
    "  Using cached python_dateutil-2.8.2-py2.py3-none-any.whl (247 kB)\n",
    "Collecting six>=1.5\n",
    "  Using cached six-1.16.0-py2.py3-none-any.whl (11 kB)\n",
    "Installing collected packages: six, python-dateutil\n",
    "Successfully installed python-dateutil-2.8.2 six-1.16.0\n",
    "WARNING: You are using pip version 21.2.4; however, version 22.0.3 is available.\n",
    "You should consider upgrading via the 'C:\\Users\\majer\\env\\Scripts\\python.exe -m pip install --upgrade pip' command.\n",
    "\n",
    "(env) C:\\Users\\majer>Successfully installed python-dateutil-2.8.2 six-1.16.0\n",
    "\"Successfully\" no se reconoce como un comando interno o externo,\n",
    "programa o archivo por lotes ejecutable.\n",
    "\n",
    "(env) C:\\Users\\majer>pip freeze\n",
    "python-dateutil==2.8.2\n",
    "six==1.16.0\n",
    "\n",
    "(env) C:\\Users\\majer>deactivate\n",
    "C:\\Users\\majer>"
   ]
  }
 ],
 "metadata": {
  "interpreter": {
   "hash": "3a847f5467418aa247c45851a68ee022dee76a854bcb45e4617612becdb89769"
  },
  "kernelspec": {
   "display_name": "Python 3.10.2 64-bit (windows store)",
   "language": "python",
   "name": "python3"
  },
  "language_info": {
   "codemirror_mode": {
    "name": "ipython",
    "version": 3
   },
   "file_extension": ".py",
   "mimetype": "text/x-python",
   "name": "python",
   "nbconvert_exporter": "python",
   "pygments_lexer": "ipython3",
   "version": "3.10.2"
  },
  "orig_nbformat": 4
 },
 "nbformat": 4,
 "nbformat_minor": 2
}
